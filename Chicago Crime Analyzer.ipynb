{
 "cells": [
  {
   "cell_type": "code",
   "execution_count": 4,
   "id": "4db82996",
   "metadata": {},
   "outputs": [
    {
     "name": "stdout",
     "output_type": "stream",
     "text": [
      "Collecting openpyxl\n",
      "  Using cached openpyxl-3.1.5-py2.py3-none-any.whl.metadata (2.5 kB)\n",
      "Collecting et-xmlfile (from openpyxl)\n",
      "  Using cached et_xmlfile-2.0.0-py3-none-any.whl.metadata (2.7 kB)\n",
      "Using cached openpyxl-3.1.5-py2.py3-none-any.whl (250 kB)\n",
      "Using cached et_xmlfile-2.0.0-py3-none-any.whl (18 kB)\n",
      "Installing collected packages: et-xmlfile, openpyxl\n",
      "\n",
      "   -------------------- ------------------- 1/2 [openpyxl]\n",
      "   -------------------- ------------------- 1/2 [openpyxl]\n",
      "   -------------------- ------------------- 1/2 [openpyxl]\n",
      "   -------------------- ------------------- 1/2 [openpyxl]\n",
      "   -------------------- ------------------- 1/2 [openpyxl]\n",
      "   -------------------- ------------------- 1/2 [openpyxl]\n",
      "   -------------------- ------------------- 1/2 [openpyxl]\n",
      "   -------------------- ------------------- 1/2 [openpyxl]\n",
      "   -------------------- ------------------- 1/2 [openpyxl]\n",
      "   -------------------- ------------------- 1/2 [openpyxl]\n",
      "   -------------------- ------------------- 1/2 [openpyxl]\n",
      "   -------------------- ------------------- 1/2 [openpyxl]\n",
      "   -------------------- ------------------- 1/2 [openpyxl]\n",
      "   -------------------- ------------------- 1/2 [openpyxl]\n",
      "   -------------------- ------------------- 1/2 [openpyxl]\n",
      "   -------------------- ------------------- 1/2 [openpyxl]\n",
      "   -------------------- ------------------- 1/2 [openpyxl]\n",
      "   -------------------- ------------------- 1/2 [openpyxl]\n",
      "   -------------------- ------------------- 1/2 [openpyxl]\n",
      "   -------------------- ------------------- 1/2 [openpyxl]\n",
      "   ---------------------------------------- 2/2 [openpyxl]\n",
      "\n",
      "Successfully installed et-xmlfile-2.0.0 openpyxl-3.1.5\n",
      "Note: you may need to restart the kernel to use updated packages.\n"
     ]
    }
   ],
   "source": [
    "pip install openpyxl"
   ]
  },
  {
   "cell_type": "code",
   "execution_count": 5,
   "id": "1e41bda7",
   "metadata": {},
   "outputs": [
    {
     "name": "stdout",
     "output_type": "stream",
     "text": [
      "Conversion successful!\n"
     ]
    }
   ],
   "source": [
    "import pandas as pd\n",
    "\n",
    "# Load Excel file\n",
    "xlsx_file = 'D:\\\\Guvi_MD116\\\\MD116_Jaya_Kumar_K_Details\\\\Project\\\\Chicago crime\\\\Crime_Data.xlsx'\n",
    "df = pd.read_excel(xlsx_file)\n",
    "\n",
    "# Save to CSV\n",
    "csv_file = 'D:\\\\Guvi_MD116\\\\MD116_Jaya_Kumar_K_Details\\\\Project\\\\Chicago crime\\\\Crime_Data.csv'\n",
    "df.to_csv(csv_file, index=False)\n",
    "\n",
    "print(\"Conversion successful!\")\n"
   ]
  },
  {
   "cell_type": "code",
   "execution_count": 6,
   "id": "eb5a3d92",
   "metadata": {},
   "outputs": [],
   "source": [
    "import pandas as pd\n",
    "\n",
    "# Load the CSV file\n",
    "df = pd.read_csv(\"D:\\\\Guvi_MD116\\\\MD116_Jaya_Kumar_K_Details\\\\Project\\\\Chicago crime\\\\Crime_Data.csv\")\n"
   ]
  },
  {
   "cell_type": "code",
   "execution_count": 7,
   "id": "a5dbad25",
   "metadata": {},
   "outputs": [
    {
     "name": "stdout",
     "output_type": "stream",
     "text": [
      "ID                           0\n",
      "Case Number                  0\n",
      "Date                         0\n",
      "Block                        0\n",
      "IUCR                         0\n",
      "Primary Type                 0\n",
      "Description                  0\n",
      "Location Description      1673\n",
      "Arrest                       0\n",
      "Domestic                     0\n",
      "Beat                         0\n",
      "District                     0\n",
      "Ward                    336325\n",
      "Community Area          334906\n",
      "FBI Code                     0\n",
      "X Coordinate              6912\n",
      "Y Coordinate              6912\n",
      "Year                         0\n",
      "Updated On                   0\n",
      "Latitude                  6912\n",
      "Longitude                 6912\n",
      "Location                  6912\n",
      "dtype: int64\n"
     ]
    },
    {
     "name": "stderr",
     "output_type": "stream",
     "text": [
      "C:\\Users\\jayak\\AppData\\Local\\Temp\\ipykernel_25424\\3189882523.py:8: FutureWarning: A value is trying to be set on a copy of a DataFrame or Series through chained assignment using an inplace method.\n",
      "The behavior will change in pandas 3.0. This inplace method will never work because the intermediate object on which we are setting values always behaves as a copy.\n",
      "\n",
      "For example, when doing 'df[col].method(value, inplace=True)', try using 'df.method({col: value}, inplace=True)' or df[col] = df[col].method(value) instead, to perform the operation inplace on the original object.\n",
      "\n",
      "\n",
      "  df['Location Description'].fillna('Unknown', inplace=True)\n",
      "C:\\Users\\jayak\\AppData\\Local\\Temp\\ipykernel_25424\\3189882523.py:11: FutureWarning: A value is trying to be set on a copy of a DataFrame or Series through chained assignment using an inplace method.\n",
      "The behavior will change in pandas 3.0. This inplace method will never work because the intermediate object on which we are setting values always behaves as a copy.\n",
      "\n",
      "For example, when doing 'df[col].method(value, inplace=True)', try using 'df.method({col: value}, inplace=True)' or df[col] = df[col].method(value) instead, to perform the operation inplace on the original object.\n",
      "\n",
      "\n",
      "  df['Ward'].fillna(df['Ward'].median(), inplace=True)\n"
     ]
    }
   ],
   "source": [
    "# Check for missing values\n",
    "print(df.isnull().sum())\n",
    "\n",
    "# Drop rows with missing 'Case Number' or 'Date'\n",
    "df.dropna(subset=['Case Number', 'Date'], inplace=True)\n",
    "\n",
    "# Fill categorical fields with 'Unknown' or mode\n",
    "df['Location Description'].fillna('Unknown', inplace=True)\n",
    "\n",
    "# Fill numeric fields with 0 or median\n",
    "df['Ward'].fillna(df['Ward'].median(), inplace=True)\n"
   ]
  },
  {
   "cell_type": "code",
   "execution_count": 14,
   "id": "c034a160",
   "metadata": {},
   "outputs": [
    {
     "name": "stdout",
     "output_type": "stream",
     "text": [
      "Conversion complete. Nulls filled with zero.\n"
     ]
    }
   ],
   "source": [
    "# Fill all missing values with 0\n",
    "df.fillna(0, inplace=True)\n",
    "\n",
    "# Save to CSV\n",
    "csv_file = 'D:\\\\Guvi_MD116\\\\MD116_Jaya_Kumar_K_Details\\\\Project\\\\Chicago crime\\\\Crime_Data_Cleaned.csv'\n",
    "df.to_csv(csv_file, index=False)\n",
    "\n",
    "print(\"Conversion complete. Nulls filled with zero.\")"
   ]
  },
  {
   "cell_type": "code",
   "execution_count": 16,
   "id": "5f4f9e47",
   "metadata": {},
   "outputs": [
    {
     "name": "stdout",
     "output_type": "stream",
     "text": [
      "ID                      0\n",
      "Case Number             0\n",
      "Date                    0\n",
      "Block                   0\n",
      "IUCR                    0\n",
      "Primary Type            0\n",
      "Description             0\n",
      "Location Description    0\n",
      "Arrest                  0\n",
      "Domestic                0\n",
      "Beat                    0\n",
      "District                0\n",
      "Ward                    0\n",
      "Community Area          0\n",
      "FBI Code                0\n",
      "X Coordinate            0\n",
      "Y Coordinate            0\n",
      "Year                    0\n",
      "Latitude                0\n",
      "Longitude               0\n",
      "Location                0\n",
      "day                     0\n",
      "week                    0\n",
      "hours                   0\n",
      "date                    0\n",
      "time                    0\n",
      "dtype: int64\n"
     ]
    }
   ],
   "source": [
    "print(df.isnull().sum())  # This should show all 0s if fillna was successful\n"
   ]
  },
  {
   "cell_type": "code",
   "execution_count": 17,
   "id": "5933878a",
   "metadata": {},
   "outputs": [],
   "source": [
    "# Convert 'Date' to datetime\n",
    "df['Date'] = pd.to_datetime(df['Date'])\n",
    "\n",
    "# Create new columns\n",
    "df['day'] = df['Date'].dt.day_name()\n",
    "df['week'] = df['Date'].dt.isocalendar().week\n",
    "df['hours'] = df['Date'].dt.hour\n",
    "df['date'] = df['Date'].dt.date\n",
    "df['time'] = df['Date'].dt.time\n"
   ]
  },
  {
   "cell_type": "code",
   "execution_count": 23,
   "id": "f0004045",
   "metadata": {},
   "outputs": [],
   "source": [
    "df['minute'] = df['Date'].dt.minute\n",
    "df['second'] = df['Date'].dt.second\n"
   ]
  },
  {
   "cell_type": "code",
   "execution_count": 24,
   "id": "a4acba5a",
   "metadata": {},
   "outputs": [],
   "source": [
    "df['Primary Type'] = df['Primary Type'].str.title().str.strip()\n",
    "df['Location Description'] = df['Location Description'].str.title().str.strip()\n"
   ]
  },
  {
   "cell_type": "code",
   "execution_count": 25,
   "id": "18a15091",
   "metadata": {},
   "outputs": [],
   "source": [
    "df.to_csv(\"cleaned_dataset05062.csv\", index=False)\n"
   ]
  }
 ],
 "metadata": {
  "kernelspec": {
   "display_name": "Python 3",
   "language": "python",
   "name": "python3"
  },
  "language_info": {
   "codemirror_mode": {
    "name": "ipython",
    "version": 3
   },
   "file_extension": ".py",
   "mimetype": "text/x-python",
   "name": "python",
   "nbconvert_exporter": "python",
   "pygments_lexer": "ipython3",
   "version": "3.11.0"
  }
 },
 "nbformat": 4,
 "nbformat_minor": 5
}
