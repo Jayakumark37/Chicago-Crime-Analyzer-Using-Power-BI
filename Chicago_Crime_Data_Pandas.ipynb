{
  "nbformat": 4,
  "nbformat_minor": 0,
  "metadata": {
    "colab": {
      "provenance": [],
      "authorship_tag": "ABX9TyPnUlV3VqQX5sGRGF/fhgi9",
      "include_colab_link": true
    },
    "kernelspec": {
      "name": "python3",
      "display_name": "Python 3"
    },
    "language_info": {
      "name": "python"
    }
  },
  "cells": [
    {
      "cell_type": "markdown",
      "metadata": {
        "id": "view-in-github",
        "colab_type": "text"
      },
      "source": [
        "<a href=\"https://colab.research.google.com/github/Jayakumark37/Chicago-Crime-Analyzer-Using-Power-BI/blob/main/Chicago_Crime_Data_Pandas.ipynb\" target=\"_parent\"><img src=\"https://colab.research.google.com/assets/colab-badge.svg\" alt=\"Open In Colab\"/></a>"
      ]
    },
    {
      "cell_type": "code",
      "source": [
        "pip install openpyxl"
      ],
      "metadata": {
        "colab": {
          "base_uri": "https://localhost:8080/"
        },
        "id": "o2buAYCbzyhH",
        "outputId": "3b4c5460-63fb-4348-b6b6-87c9e1ae0bde"
      },
      "execution_count": 21,
      "outputs": [
        {
          "output_type": "stream",
          "name": "stdout",
          "text": [
            "Requirement already satisfied: openpyxl in /usr/local/lib/python3.11/dist-packages (3.1.5)\n",
            "Requirement already satisfied: et-xmlfile in /usr/local/lib/python3.11/dist-packages (from openpyxl) (2.0.0)\n",
            "Requirement already satisfied: openpyxl in /usr/local/lib/python3.11/dist-packages (3.1.5)\n",
            "Requirement already satisfied: et-xmlfile in /usr/local/lib/python3.11/dist-packages (from openpyxl) (2.0.0)\n"
          ]
        }
      ]
    },
    {
      "cell_type": "code",
      "source": [
        "import pandas as pd"
      ],
      "metadata": {
        "id": "2ixNNoFDzxaF"
      },
      "execution_count": 22,
      "outputs": []
    },
    {
      "cell_type": "code",
      "source": [
        "# Load Excel file\n",
        "xlsx_file = '/content/Crime_Data.xlsx' # Make sure this path is correct and the file is valid\n",
        "# try:\n",
        "df = pd.read_excel(xlsx_file)\n",
        "\n",
        "# Save to CSV\n",
        "csv_file = '/content/Crime_Data.csv'\n",
        "df.to_csv(csv_file, index=False)\n",
        "\n",
        "print(\"Conversion successful!\")"
      ],
      "metadata": {
        "colab": {
          "base_uri": "https://localhost:8080/"
        },
        "id": "xpPQhWqbzwHR",
        "outputId": "6ab7e583-14e7-44a9-cdcf-edd25cdf4ccb"
      },
      "execution_count": 23,
      "outputs": [
        {
          "output_type": "stream",
          "name": "stdout",
          "text": [
            "Conversion successful!\n",
            "Conversion successful!\n"
          ]
        }
      ]
    },
    {
      "cell_type": "code",
      "source": [
        "# Check for missing values\n",
        "print(df.isnull().sum())\n",
        "\n",
        "# Drop rows with missing 'Case Number' or 'Date'\n",
        "df.dropna(subset=['Case Number', 'Date'], inplace=True)\n",
        "\n",
        "# Fill categorical fields with 'Unknown' or mode\n",
        "df['Location Description'].fillna('Unknown', inplace=True)\n",
        "\n",
        "# Fill numeric fields with 0 or median\n",
        "df['Ward'].fillna(df['Ward'].median(), inplace=True)\n"
      ],
      "metadata": {
        "colab": {
          "base_uri": "https://localhost:8080/"
        },
        "id": "3ENciNUjyzg3",
        "outputId": "f31ca0a4-7df9-41b4-b9f8-60a7e256110c"
      },
      "execution_count": 24,
      "outputs": [
        {
          "output_type": "stream",
          "name": "stdout",
          "text": [
            "ID                           0\n",
            "Case Number                  0\n",
            "Date                         0\n",
            "Block                        0\n",
            "IUCR                         0\n",
            "Primary Type                 0\n",
            "Description                  0\n",
            "Location Description      1673\n",
            "Arrest                       0\n",
            "Domestic                     0\n",
            "Beat                         0\n",
            "District                     0\n",
            "Ward                    336325\n",
            "Community Area          334906\n",
            "FBI Code                     0\n",
            "X Coordinate              6912\n",
            "Y Coordinate              6912\n",
            "Year                         0\n",
            "Updated On                   0\n",
            "Latitude                  6912\n",
            "Longitude                 6912\n",
            "Location                  6912\n",
            "dtype: int64\n"
          ]
        },
        {
          "output_type": "stream",
          "name": "stderr",
          "text": [
            "<ipython-input-24-2dc40e21a904>:8: FutureWarning: A value is trying to be set on a copy of a DataFrame or Series through chained assignment using an inplace method.\n",
            "The behavior will change in pandas 3.0. This inplace method will never work because the intermediate object on which we are setting values always behaves as a copy.\n",
            "\n",
            "For example, when doing 'df[col].method(value, inplace=True)', try using 'df.method({col: value}, inplace=True)' or df[col] = df[col].method(value) instead, to perform the operation inplace on the original object.\n",
            "\n",
            "\n",
            "  df['Location Description'].fillna('Unknown', inplace=True)\n",
            "<ipython-input-24-2dc40e21a904>:11: FutureWarning: A value is trying to be set on a copy of a DataFrame or Series through chained assignment using an inplace method.\n",
            "The behavior will change in pandas 3.0. This inplace method will never work because the intermediate object on which we are setting values always behaves as a copy.\n",
            "\n",
            "For example, when doing 'df[col].method(value, inplace=True)', try using 'df.method({col: value}, inplace=True)' or df[col] = df[col].method(value) instead, to perform the operation inplace on the original object.\n",
            "\n",
            "\n",
            "  df['Ward'].fillna(df['Ward'].median(), inplace=True)\n"
          ]
        }
      ]
    },
    {
      "cell_type": "code",
      "source": [
        "# Fill all missing values with 0\n",
        "df.fillna(0, inplace=True)\n",
        "\n",
        "# Save to CSV\n",
        "csv_file = 'D:\\\\Guvi_MD116\\\\MD116_Jaya_Kumar_K_Details\\\\Project\\\\Chicago crime\\\\Crime_Data_Cleaned.csv'\n",
        "df.to_csv(csv_file, index=False)\n",
        "\n",
        "print(\"Conversion complete. Nulls filled with zero.\")"
      ],
      "metadata": {
        "colab": {
          "base_uri": "https://localhost:8080/"
        },
        "id": "yb2SbGbey1VV",
        "outputId": "25cdce13-2149-4820-a5e8-fbd4d596688e"
      },
      "execution_count": 25,
      "outputs": [
        {
          "output_type": "stream",
          "name": "stdout",
          "text": [
            "Conversion complete. Nulls filled with zero.\n"
          ]
        }
      ]
    },
    {
      "cell_type": "code",
      "source": [
        "print(df.isnull().sum())  # This should show all 0s if fillna was successful\n"
      ],
      "metadata": {
        "colab": {
          "base_uri": "https://localhost:8080/"
        },
        "id": "nyUg4U7gy3Hd",
        "outputId": "a1c8e273-8efe-4a21-e089-1f9b5839ba52"
      },
      "execution_count": 26,
      "outputs": [
        {
          "output_type": "stream",
          "name": "stdout",
          "text": [
            "ID                      0\n",
            "Case Number             0\n",
            "Date                    0\n",
            "Block                   0\n",
            "IUCR                    0\n",
            "Primary Type            0\n",
            "Description             0\n",
            "Location Description    0\n",
            "Arrest                  0\n",
            "Domestic                0\n",
            "Beat                    0\n",
            "District                0\n",
            "Ward                    0\n",
            "Community Area          0\n",
            "FBI Code                0\n",
            "X Coordinate            0\n",
            "Y Coordinate            0\n",
            "Year                    0\n",
            "Updated On              0\n",
            "Latitude                0\n",
            "Longitude               0\n",
            "Location                0\n",
            "dtype: int64\n"
          ]
        }
      ]
    },
    {
      "cell_type": "code",
      "source": [
        "# Convert 'Date' to datetime\n",
        "df['Date'] = pd.to_datetime(df['Date'])\n",
        "\n",
        "# Create new columns\n",
        "df['day'] = df['Date'].dt.day_name()\n",
        "df['week'] = df['Date'].dt.isocalendar().week\n",
        "df['hours'] = df['Date'].dt.hour\n",
        "df['date'] = df['Date'].dt.date\n",
        "df['time'] = df['Date'].dt.time\n",
        "df['minute'] = df['Date'].dt.minute\n",
        "df['second'] = df['Date'].dt.second\n"
      ],
      "metadata": {
        "id": "PNM80E_Ly4im"
      },
      "execution_count": 27,
      "outputs": []
    },
    {
      "cell_type": "code",
      "source": [
        "df['Primary Type'] = df['Primary Type'].str.title().str.strip()\n",
        "df['Location Description'] = df['Location Description'].str.title().str.strip()\n"
      ],
      "metadata": {
        "id": "SFqCcJ1Py7m9"
      },
      "execution_count": 28,
      "outputs": []
    },
    {
      "cell_type": "code",
      "source": [
        "df.to_csv(\"Crimedataset05062.csv\", index=False)\n"
      ],
      "metadata": {
        "id": "r_CZzcely8ad"
      },
      "execution_count": 29,
      "outputs": []
    }
  ]
}